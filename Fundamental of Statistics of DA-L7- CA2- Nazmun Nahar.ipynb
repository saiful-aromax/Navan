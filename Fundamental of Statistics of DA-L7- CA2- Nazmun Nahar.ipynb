{
 "cells": [
  {
   "cell_type": "code",
   "execution_count": 2,
   "id": "30874293",
   "metadata": {},
   "outputs": [],
   "source": [
    "import pandas as pd\n",
    "import statistics as stats\n",
    "import numpy as np\n",
    "import matplotlib.pyplot as plt\n",
    "import seaborn as sns\n",
    "from statistics import mean, median, mode, variance, stdev"
   ]
  },
  {
   "cell_type": "code",
   "execution_count": 3,
   "id": "9809b312",
   "metadata": {},
   "outputs": [],
   "source": [
    "\n",
    "# importing dataset\n",
    "# importing the dataset\n",
    "dataset = pd.read_csv(\"garments_worker_productivity.csv\")"
   ]
  },
  {
   "cell_type": "code",
   "execution_count": 4,
   "id": "818c3ca9",
   "metadata": {},
   "outputs": [
    {
     "data": {
      "text/html": [
       "<div>\n",
       "<style scoped>\n",
       "    .dataframe tbody tr th:only-of-type {\n",
       "        vertical-align: middle;\n",
       "    }\n",
       "\n",
       "    .dataframe tbody tr th {\n",
       "        vertical-align: top;\n",
       "    }\n",
       "\n",
       "    .dataframe thead th {\n",
       "        text-align: right;\n",
       "    }\n",
       "</style>\n",
       "<table border=\"1\" class=\"dataframe\">\n",
       "  <thead>\n",
       "    <tr style=\"text-align: right;\">\n",
       "      <th></th>\n",
       "      <th>department</th>\n",
       "      <th>day</th>\n",
       "      <th>team</th>\n",
       "      <th>targeted_productivity</th>\n",
       "      <th>smv</th>\n",
       "      <th>wip</th>\n",
       "      <th>over_time</th>\n",
       "      <th>incentive</th>\n",
       "      <th>idle_time</th>\n",
       "      <th>idle_men</th>\n",
       "      <th>no_of_style_change</th>\n",
       "      <th>no_of_workers</th>\n",
       "      <th>actual_productivity</th>\n",
       "    </tr>\n",
       "  </thead>\n",
       "  <tbody>\n",
       "    <tr>\n",
       "      <th>0</th>\n",
       "      <td>sweing</td>\n",
       "      <td>Thursday</td>\n",
       "      <td>8</td>\n",
       "      <td>0.8</td>\n",
       "      <td>26.16</td>\n",
       "      <td>1108</td>\n",
       "      <td>7080</td>\n",
       "      <td>98</td>\n",
       "      <td>0.0</td>\n",
       "      <td>0</td>\n",
       "      <td>0</td>\n",
       "      <td>59.0</td>\n",
       "      <td>0.940725</td>\n",
       "    </tr>\n",
       "    <tr>\n",
       "      <th>1</th>\n",
       "      <td>sweing</td>\n",
       "      <td>Thursday</td>\n",
       "      <td>11</td>\n",
       "      <td>0.8</td>\n",
       "      <td>11.41</td>\n",
       "      <td>968</td>\n",
       "      <td>3660</td>\n",
       "      <td>50</td>\n",
       "      <td>0.0</td>\n",
       "      <td>0</td>\n",
       "      <td>0</td>\n",
       "      <td>30.5</td>\n",
       "      <td>0.800570</td>\n",
       "    </tr>\n",
       "    <tr>\n",
       "      <th>2</th>\n",
       "      <td>sweing</td>\n",
       "      <td>Thursday</td>\n",
       "      <td>12</td>\n",
       "      <td>0.8</td>\n",
       "      <td>11.41</td>\n",
       "      <td>968</td>\n",
       "      <td>3660</td>\n",
       "      <td>50</td>\n",
       "      <td>0.0</td>\n",
       "      <td>0</td>\n",
       "      <td>0</td>\n",
       "      <td>30.5</td>\n",
       "      <td>0.800570</td>\n",
       "    </tr>\n",
       "    <tr>\n",
       "      <th>3</th>\n",
       "      <td>sweing</td>\n",
       "      <td>Thursday</td>\n",
       "      <td>6</td>\n",
       "      <td>0.8</td>\n",
       "      <td>25.90</td>\n",
       "      <td>1170</td>\n",
       "      <td>1920</td>\n",
       "      <td>50</td>\n",
       "      <td>0.0</td>\n",
       "      <td>0</td>\n",
       "      <td>0</td>\n",
       "      <td>56.0</td>\n",
       "      <td>0.800382</td>\n",
       "    </tr>\n",
       "    <tr>\n",
       "      <th>4</th>\n",
       "      <td>sweing</td>\n",
       "      <td>Thursday</td>\n",
       "      <td>7</td>\n",
       "      <td>0.8</td>\n",
       "      <td>25.90</td>\n",
       "      <td>984</td>\n",
       "      <td>6720</td>\n",
       "      <td>38</td>\n",
       "      <td>0.0</td>\n",
       "      <td>0</td>\n",
       "      <td>0</td>\n",
       "      <td>56.0</td>\n",
       "      <td>0.800125</td>\n",
       "    </tr>\n",
       "  </tbody>\n",
       "</table>\n",
       "</div>"
      ],
      "text/plain": [
       "  department       day  team  targeted_productivity    smv   wip  over_time  \\\n",
       "0     sweing  Thursday     8                    0.8  26.16  1108       7080   \n",
       "1     sweing  Thursday    11                    0.8  11.41   968       3660   \n",
       "2     sweing  Thursday    12                    0.8  11.41   968       3660   \n",
       "3     sweing  Thursday     6                    0.8  25.90  1170       1920   \n",
       "4     sweing  Thursday     7                    0.8  25.90   984       6720   \n",
       "\n",
       "   incentive  idle_time  idle_men  no_of_style_change  no_of_workers  \\\n",
       "0         98        0.0         0                   0           59.0   \n",
       "1         50        0.0         0                   0           30.5   \n",
       "2         50        0.0         0                   0           30.5   \n",
       "3         50        0.0         0                   0           56.0   \n",
       "4         38        0.0         0                   0           56.0   \n",
       "\n",
       "   actual_productivity  \n",
       "0             0.940725  \n",
       "1             0.800570  \n",
       "2             0.800570  \n",
       "3             0.800382  \n",
       "4             0.800125  "
      ]
     },
     "execution_count": 4,
     "metadata": {},
     "output_type": "execute_result"
    }
   ],
   "source": [
    "dataset.head()"
   ]
  },
  {
   "cell_type": "code",
   "execution_count": 5,
   "id": "842a1912",
   "metadata": {},
   "outputs": [
    {
     "data": {
      "text/html": [
       "<div>\n",
       "<style scoped>\n",
       "    .dataframe tbody tr th:only-of-type {\n",
       "        vertical-align: middle;\n",
       "    }\n",
       "\n",
       "    .dataframe tbody tr th {\n",
       "        vertical-align: top;\n",
       "    }\n",
       "\n",
       "    .dataframe thead th {\n",
       "        text-align: right;\n",
       "    }\n",
       "</style>\n",
       "<table border=\"1\" class=\"dataframe\">\n",
       "  <thead>\n",
       "    <tr style=\"text-align: right;\">\n",
       "      <th></th>\n",
       "      <th>team</th>\n",
       "      <th>targeted_productivity</th>\n",
       "      <th>smv</th>\n",
       "      <th>wip</th>\n",
       "      <th>over_time</th>\n",
       "      <th>incentive</th>\n",
       "      <th>idle_time</th>\n",
       "      <th>idle_men</th>\n",
       "      <th>no_of_style_change</th>\n",
       "      <th>no_of_workers</th>\n",
       "      <th>actual_productivity</th>\n",
       "    </tr>\n",
       "  </thead>\n",
       "  <tbody>\n",
       "    <tr>\n",
       "      <th>count</th>\n",
       "      <td>691.000000</td>\n",
       "      <td>691.000000</td>\n",
       "      <td>691.000000</td>\n",
       "      <td>691.000000</td>\n",
       "      <td>691.000000</td>\n",
       "      <td>691.000000</td>\n",
       "      <td>691.000000</td>\n",
       "      <td>691.000000</td>\n",
       "      <td>691.000000</td>\n",
       "      <td>691.000000</td>\n",
       "      <td>691.000000</td>\n",
       "    </tr>\n",
       "    <tr>\n",
       "      <th>mean</th>\n",
       "      <td>6.520984</td>\n",
       "      <td>0.723980</td>\n",
       "      <td>23.245412</td>\n",
       "      <td>1190.465991</td>\n",
       "      <td>6508.205499</td>\n",
       "      <td>44.483357</td>\n",
       "      <td>1.264834</td>\n",
       "      <td>0.639653</td>\n",
       "      <td>0.260492</td>\n",
       "      <td>52.445731</td>\n",
       "      <td>0.722013</td>\n",
       "    </tr>\n",
       "    <tr>\n",
       "      <th>std</th>\n",
       "      <td>3.458333</td>\n",
       "      <td>0.102006</td>\n",
       "      <td>6.976497</td>\n",
       "      <td>1837.455001</td>\n",
       "      <td>2864.505604</td>\n",
       "      <td>27.596591</td>\n",
       "      <td>16.712923</td>\n",
       "      <td>4.283652</td>\n",
       "      <td>0.537185</td>\n",
       "      <td>9.417353</td>\n",
       "      <td>0.154784</td>\n",
       "    </tr>\n",
       "    <tr>\n",
       "      <th>min</th>\n",
       "      <td>1.000000</td>\n",
       "      <td>0.070000</td>\n",
       "      <td>10.050000</td>\n",
       "      <td>7.000000</td>\n",
       "      <td>0.000000</td>\n",
       "      <td>0.000000</td>\n",
       "      <td>0.000000</td>\n",
       "      <td>0.000000</td>\n",
       "      <td>0.000000</td>\n",
       "      <td>26.000000</td>\n",
       "      <td>0.233705</td>\n",
       "    </tr>\n",
       "    <tr>\n",
       "      <th>25%</th>\n",
       "      <td>4.000000</td>\n",
       "      <td>0.700000</td>\n",
       "      <td>18.790000</td>\n",
       "      <td>774.500000</td>\n",
       "      <td>4560.000000</td>\n",
       "      <td>30.000000</td>\n",
       "      <td>0.000000</td>\n",
       "      <td>0.000000</td>\n",
       "      <td>0.000000</td>\n",
       "      <td>52.000000</td>\n",
       "      <td>0.661470</td>\n",
       "    </tr>\n",
       "    <tr>\n",
       "      <th>50%</th>\n",
       "      <td>6.000000</td>\n",
       "      <td>0.750000</td>\n",
       "      <td>22.520000</td>\n",
       "      <td>1039.000000</td>\n",
       "      <td>6840.000000</td>\n",
       "      <td>45.000000</td>\n",
       "      <td>0.000000</td>\n",
       "      <td>0.000000</td>\n",
       "      <td>0.000000</td>\n",
       "      <td>57.000000</td>\n",
       "      <td>0.750608</td>\n",
       "    </tr>\n",
       "    <tr>\n",
       "      <th>75%</th>\n",
       "      <td>10.000000</td>\n",
       "      <td>0.800000</td>\n",
       "      <td>28.080000</td>\n",
       "      <td>1252.500000</td>\n",
       "      <td>7200.000000</td>\n",
       "      <td>60.000000</td>\n",
       "      <td>0.000000</td>\n",
       "      <td>0.000000</td>\n",
       "      <td>0.000000</td>\n",
       "      <td>58.000000</td>\n",
       "      <td>0.800402</td>\n",
       "    </tr>\n",
       "    <tr>\n",
       "      <th>max</th>\n",
       "      <td>12.000000</td>\n",
       "      <td>0.800000</td>\n",
       "      <td>54.560000</td>\n",
       "      <td>23122.000000</td>\n",
       "      <td>25920.000000</td>\n",
       "      <td>138.000000</td>\n",
       "      <td>300.000000</td>\n",
       "      <td>45.000000</td>\n",
       "      <td>2.000000</td>\n",
       "      <td>89.000000</td>\n",
       "      <td>1.100484</td>\n",
       "    </tr>\n",
       "  </tbody>\n",
       "</table>\n",
       "</div>"
      ],
      "text/plain": [
       "             team  targeted_productivity         smv           wip  \\\n",
       "count  691.000000             691.000000  691.000000    691.000000   \n",
       "mean     6.520984               0.723980   23.245412   1190.465991   \n",
       "std      3.458333               0.102006    6.976497   1837.455001   \n",
       "min      1.000000               0.070000   10.050000      7.000000   \n",
       "25%      4.000000               0.700000   18.790000    774.500000   \n",
       "50%      6.000000               0.750000   22.520000   1039.000000   \n",
       "75%     10.000000               0.800000   28.080000   1252.500000   \n",
       "max     12.000000               0.800000   54.560000  23122.000000   \n",
       "\n",
       "          over_time   incentive   idle_time    idle_men  no_of_style_change  \\\n",
       "count    691.000000  691.000000  691.000000  691.000000          691.000000   \n",
       "mean    6508.205499   44.483357    1.264834    0.639653            0.260492   \n",
       "std     2864.505604   27.596591   16.712923    4.283652            0.537185   \n",
       "min        0.000000    0.000000    0.000000    0.000000            0.000000   \n",
       "25%     4560.000000   30.000000    0.000000    0.000000            0.000000   \n",
       "50%     6840.000000   45.000000    0.000000    0.000000            0.000000   \n",
       "75%     7200.000000   60.000000    0.000000    0.000000            0.000000   \n",
       "max    25920.000000  138.000000  300.000000   45.000000            2.000000   \n",
       "\n",
       "       no_of_workers  actual_productivity  \n",
       "count     691.000000           691.000000  \n",
       "mean       52.445731             0.722013  \n",
       "std         9.417353             0.154784  \n",
       "min        26.000000             0.233705  \n",
       "25%        52.000000             0.661470  \n",
       "50%        57.000000             0.750608  \n",
       "75%        58.000000             0.800402  \n",
       "max        89.000000             1.100484  "
      ]
     },
     "execution_count": 5,
     "metadata": {},
     "output_type": "execute_result"
    }
   ],
   "source": [
    "dataset.describe()"
   ]
  },
  {
   "cell_type": "markdown",
   "id": "a948d722",
   "metadata": {},
   "source": [
    "# part 1 Inferential Statistics\n",
    "The company believes implemented new machines and they believe this would reduce the average overtime (in minutes) that the workers will do, which will lead to a cost reduction in the end. They tried it in a group of 200 workers, which shows an average overtime of 6300 minutes. Can we say that the company is right?"
   ]
  },
  {
   "cell_type": "markdown",
   "id": "9ef94425",
   "metadata": {},
   "source": [
    "We need to define the variable and the data that we have available before we start with the steps of the HT\n",
    "\n",
    "X = the average overtime (in minutes)\n",
    "\n",
    "Population: sigma = 2864.5056 /// Sample: n = 200, x bar: 6300 /// HT: mu = 6508.205? ; alpha = 0.05"
   ]
  },
  {
   "cell_type": "markdown",
   "id": "af7bd0e9",
   "metadata": {},
   "source": [
    "# Step 1: Formulation the test"
   ]
  },
  {
   "cell_type": "markdown",
   "id": "5b86ac84",
   "metadata": {},
   "source": [
    "H0: mu = 6508.205 // H1: mu < 6508.205"
   ]
  },
  {
   "cell_type": "markdown",
   "id": "2f5de52e",
   "metadata": {},
   "source": [
    "# Step 2: We decide the formula or table"
   ]
  },
  {
   "cell_type": "markdown",
   "id": "11f79a46",
   "metadata": {},
   "source": [
    "Table: Normal --> z = (x bar - mu)/ sigma / sq(n)"
   ]
  },
  {
   "cell_type": "markdown",
   "id": "b4d28e53",
   "metadata": {},
   "source": [
    "# Step 3: Critical values\n"
   ]
  },
  {
   "cell_type": "markdown",
   "id": "3717fb32",
   "metadata": {},
   "source": [
    "The sign of H1 ( < ) , alpha (0.05) <-- It means that my distribution will be less, the sign of H1 indicates that I will paint alpha into one tail (my alpha will be 0.05 on one side). "
   ]
  },
  {
   "cell_type": "markdown",
   "id": "928aeb8f",
   "metadata": {},
   "source": [
    "We look for the critical value in the probability distributions app, and we see that the critical values is -1.6448"
   ]
  },
  {
   "cell_type": "markdown",
   "id": "d7dd0026",
   "metadata": {},
   "source": [
    "# Step 4: Decision Rule"
   ]
  },
  {
   "cell_type": "markdown",
   "id": "f34a365b",
   "metadata": {},
   "source": [
    "If z <= critical z We reject null hypothesis Else We accept null hypothesis \n",
    "\n",
    "The same for p-value If p-value < alpha We reject null hypothesis Else We accept null hypothesis \n"
   ]
  },
  {
   "cell_type": "markdown",
   "id": "b916539d",
   "metadata": {},
   "source": [
    "# Step 5: Calculation of z score"
   ]
  },
  {
   "cell_type": "code",
   "execution_count": 1,
   "id": "ed782b79",
   "metadata": {},
   "outputs": [],
   "source": [
    "#Importing statistical libraries\n",
    "import scipy.stats as stats\n",
    "from statsmodels.stats import weightstats as stests\n",
    "from scipy.stats import norm\n",
    "import numpy as np"
   ]
  },
  {
   "cell_type": "code",
   "execution_count": 2,
   "id": "2f672b4f",
   "metadata": {},
   "outputs": [],
   "source": [
    "#We need to write down the values as objects \n",
    "\n",
    "mu = 6508.205 # under H0 true, this is population average\n",
    "std = 2864.506 # sigma\n",
    "n = 200 # sample size\n",
    "sample_mean = 6300 # x bar\n",
    "formula_std = std / (n ** 0.5) #sigma / sq of n"
   ]
  },
  {
   "cell_type": "code",
   "execution_count": 3,
   "id": "ae12c053",
   "metadata": {},
   "outputs": [],
   "source": [
    "# Z-test calculation\n",
    "z_score = (sample_mean - mu) / formula_std\n"
   ]
  },
  {
   "cell_type": "code",
   "execution_count": 6,
   "id": "ff7a942c",
   "metadata": {},
   "outputs": [],
   "source": [
    "# Calculating the p-value for the two-tailed test\n",
    "p_value = stats.norm.cdf(z_score)  # one tailed test"
   ]
  },
  {
   "cell_type": "code",
   "execution_count": 7,
   "id": "cdd84678",
   "metadata": {},
   "outputs": [
    {
     "name": "stdout",
     "output_type": "stream",
     "text": [
      "z_score: -1.0279131366940415\n",
      "p_value: 0.15199534477261567\n"
     ]
    }
   ],
   "source": [
    "#We perform the test and alculate the z score\n",
    "\n",
    "print(\"z_score:\", z_score)\n",
    "print(\"p_value:\", p_value)"
   ]
  },
  {
   "cell_type": "markdown",
   "id": "c5168fd2",
   "metadata": {},
   "source": [
    "# Step 6: Result of the test"
   ]
  },
  {
   "cell_type": "markdown",
   "id": "afe06cc5",
   "metadata": {},
   "source": [
    "As z= -1.02 and critical z=-1.64 ==> z > critical z ==> accept null hypothesis"
   ]
  },
  {
   "cell_type": "markdown",
   "id": "ff8c6355",
   "metadata": {},
   "source": [
    "# Step 7: Interpretation"
   ]
  },
  {
   "cell_type": "markdown",
   "id": "308323db",
   "metadata": {},
   "source": [
    "At a 5% significante level there is evidence to say that based on p value and the critical z-value accept the null hypothesis."
   ]
  },
  {
   "cell_type": "markdown",
   "id": "5476497d",
   "metadata": {},
   "source": [
    "# confidance intervals"
   ]
  },
  {
   "cell_type": "markdown",
   "id": "b666f67b",
   "metadata": {},
   "source": [
    "we want to analysis the real average productivity of workers each day of week."
   ]
  },
  {
   "cell_type": "code",
   "execution_count": 1,
   "id": "007c4852",
   "metadata": {},
   "outputs": [],
   "source": [
    "import pandas as pd\n",
    "import statistics as stats\n",
    "import scipy.stats as st\n",
    "import numpy as np\n",
    "# from statsmodels.stats import weightstats as stests\n",
    "import matplotlib.pyplot as plt\n",
    "import seaborn as sns"
   ]
  },
  {
   "cell_type": "code",
   "execution_count": 4,
   "id": "5a4e972f",
   "metadata": {},
   "outputs": [
    {
     "data": {
      "text/html": [
       "<div>\n",
       "<style scoped>\n",
       "    .dataframe tbody tr th:only-of-type {\n",
       "        vertical-align: middle;\n",
       "    }\n",
       "\n",
       "    .dataframe tbody tr th {\n",
       "        vertical-align: top;\n",
       "    }\n",
       "\n",
       "    .dataframe thead th {\n",
       "        text-align: right;\n",
       "    }\n",
       "</style>\n",
       "<table border=\"1\" class=\"dataframe\">\n",
       "  <thead>\n",
       "    <tr style=\"text-align: right;\">\n",
       "      <th></th>\n",
       "      <th>department</th>\n",
       "      <th>day</th>\n",
       "      <th>team</th>\n",
       "      <th>targeted_productivity</th>\n",
       "      <th>smv</th>\n",
       "      <th>wip</th>\n",
       "      <th>over_time</th>\n",
       "      <th>incentive</th>\n",
       "      <th>idle_time</th>\n",
       "      <th>idle_men</th>\n",
       "      <th>no_of_style_change</th>\n",
       "      <th>no_of_workers</th>\n",
       "      <th>actual_productivity</th>\n",
       "    </tr>\n",
       "  </thead>\n",
       "  <tbody>\n",
       "    <tr>\n",
       "      <th>0</th>\n",
       "      <td>sweing</td>\n",
       "      <td>Thursday</td>\n",
       "      <td>8</td>\n",
       "      <td>0.8</td>\n",
       "      <td>26.16</td>\n",
       "      <td>1108</td>\n",
       "      <td>7080</td>\n",
       "      <td>98</td>\n",
       "      <td>0.0</td>\n",
       "      <td>0</td>\n",
       "      <td>0</td>\n",
       "      <td>59.0</td>\n",
       "      <td>0.940725</td>\n",
       "    </tr>\n",
       "    <tr>\n",
       "      <th>1</th>\n",
       "      <td>sweing</td>\n",
       "      <td>Thursday</td>\n",
       "      <td>11</td>\n",
       "      <td>0.8</td>\n",
       "      <td>11.41</td>\n",
       "      <td>968</td>\n",
       "      <td>3660</td>\n",
       "      <td>50</td>\n",
       "      <td>0.0</td>\n",
       "      <td>0</td>\n",
       "      <td>0</td>\n",
       "      <td>30.5</td>\n",
       "      <td>0.800570</td>\n",
       "    </tr>\n",
       "    <tr>\n",
       "      <th>2</th>\n",
       "      <td>sweing</td>\n",
       "      <td>Thursday</td>\n",
       "      <td>12</td>\n",
       "      <td>0.8</td>\n",
       "      <td>11.41</td>\n",
       "      <td>968</td>\n",
       "      <td>3660</td>\n",
       "      <td>50</td>\n",
       "      <td>0.0</td>\n",
       "      <td>0</td>\n",
       "      <td>0</td>\n",
       "      <td>30.5</td>\n",
       "      <td>0.800570</td>\n",
       "    </tr>\n",
       "    <tr>\n",
       "      <th>3</th>\n",
       "      <td>sweing</td>\n",
       "      <td>Thursday</td>\n",
       "      <td>6</td>\n",
       "      <td>0.8</td>\n",
       "      <td>25.90</td>\n",
       "      <td>1170</td>\n",
       "      <td>1920</td>\n",
       "      <td>50</td>\n",
       "      <td>0.0</td>\n",
       "      <td>0</td>\n",
       "      <td>0</td>\n",
       "      <td>56.0</td>\n",
       "      <td>0.800382</td>\n",
       "    </tr>\n",
       "    <tr>\n",
       "      <th>4</th>\n",
       "      <td>sweing</td>\n",
       "      <td>Thursday</td>\n",
       "      <td>7</td>\n",
       "      <td>0.8</td>\n",
       "      <td>25.90</td>\n",
       "      <td>984</td>\n",
       "      <td>6720</td>\n",
       "      <td>38</td>\n",
       "      <td>0.0</td>\n",
       "      <td>0</td>\n",
       "      <td>0</td>\n",
       "      <td>56.0</td>\n",
       "      <td>0.800125</td>\n",
       "    </tr>\n",
       "  </tbody>\n",
       "</table>\n",
       "</div>"
      ],
      "text/plain": [
       "  department       day  team  targeted_productivity    smv   wip  over_time  \\\n",
       "0     sweing  Thursday     8                    0.8  26.16  1108       7080   \n",
       "1     sweing  Thursday    11                    0.8  11.41   968       3660   \n",
       "2     sweing  Thursday    12                    0.8  11.41   968       3660   \n",
       "3     sweing  Thursday     6                    0.8  25.90  1170       1920   \n",
       "4     sweing  Thursday     7                    0.8  25.90   984       6720   \n",
       "\n",
       "   incentive  idle_time  idle_men  no_of_style_change  no_of_workers  \\\n",
       "0         98        0.0         0                   0           59.0   \n",
       "1         50        0.0         0                   0           30.5   \n",
       "2         50        0.0         0                   0           30.5   \n",
       "3         50        0.0         0                   0           56.0   \n",
       "4         38        0.0         0                   0           56.0   \n",
       "\n",
       "   actual_productivity  \n",
       "0             0.940725  \n",
       "1             0.800570  \n",
       "2             0.800570  \n",
       "3             0.800382  \n",
       "4             0.800125  "
      ]
     },
     "execution_count": 4,
     "metadata": {},
     "output_type": "execute_result"
    }
   ],
   "source": [
    "# importing dataset\n",
    "# importing the dataset\n",
    "dataset = dataset = pd.read_csv(\n",
    "    \"C:\\\\Users\\\\aromax\\\\Documents\\\\AroProjects\\\\Navan\\\\garments_worker_productivity.csv\"\n",
    ")\n",
    "dataset.head()"
   ]
  },
  {
   "cell_type": "code",
   "execution_count": 3,
   "id": "6cfe8d5b",
   "metadata": {},
   "outputs": [
    {
     "data": {
      "text/html": [
       "<div>\n",
       "<style scoped>\n",
       "    .dataframe tbody tr th:only-of-type {\n",
       "        vertical-align: middle;\n",
       "    }\n",
       "\n",
       "    .dataframe tbody tr th {\n",
       "        vertical-align: top;\n",
       "    }\n",
       "\n",
       "    .dataframe thead th {\n",
       "        text-align: right;\n",
       "    }\n",
       "</style>\n",
       "<table border=\"1\" class=\"dataframe\">\n",
       "  <thead>\n",
       "    <tr style=\"text-align: right;\">\n",
       "      <th></th>\n",
       "      <th>team</th>\n",
       "      <th>targeted_productivity</th>\n",
       "      <th>smv</th>\n",
       "      <th>wip</th>\n",
       "      <th>over_time</th>\n",
       "      <th>incentive</th>\n",
       "      <th>idle_time</th>\n",
       "      <th>idle_men</th>\n",
       "      <th>no_of_style_change</th>\n",
       "      <th>no_of_workers</th>\n",
       "      <th>actual_productivity</th>\n",
       "    </tr>\n",
       "  </thead>\n",
       "  <tbody>\n",
       "    <tr>\n",
       "      <th>count</th>\n",
       "      <td>691.000000</td>\n",
       "      <td>691.000000</td>\n",
       "      <td>691.000000</td>\n",
       "      <td>691.000000</td>\n",
       "      <td>691.000000</td>\n",
       "      <td>691.000000</td>\n",
       "      <td>691.000000</td>\n",
       "      <td>691.000000</td>\n",
       "      <td>691.000000</td>\n",
       "      <td>691.000000</td>\n",
       "      <td>691.000000</td>\n",
       "    </tr>\n",
       "    <tr>\n",
       "      <th>mean</th>\n",
       "      <td>6.520984</td>\n",
       "      <td>0.723980</td>\n",
       "      <td>23.245412</td>\n",
       "      <td>1190.465991</td>\n",
       "      <td>6508.205499</td>\n",
       "      <td>44.483357</td>\n",
       "      <td>1.264834</td>\n",
       "      <td>0.639653</td>\n",
       "      <td>0.260492</td>\n",
       "      <td>52.445731</td>\n",
       "      <td>0.722013</td>\n",
       "    </tr>\n",
       "    <tr>\n",
       "      <th>std</th>\n",
       "      <td>3.458333</td>\n",
       "      <td>0.102006</td>\n",
       "      <td>6.976497</td>\n",
       "      <td>1837.455001</td>\n",
       "      <td>2864.505604</td>\n",
       "      <td>27.596591</td>\n",
       "      <td>16.712923</td>\n",
       "      <td>4.283652</td>\n",
       "      <td>0.537185</td>\n",
       "      <td>9.417353</td>\n",
       "      <td>0.154784</td>\n",
       "    </tr>\n",
       "    <tr>\n",
       "      <th>min</th>\n",
       "      <td>1.000000</td>\n",
       "      <td>0.070000</td>\n",
       "      <td>10.050000</td>\n",
       "      <td>7.000000</td>\n",
       "      <td>0.000000</td>\n",
       "      <td>0.000000</td>\n",
       "      <td>0.000000</td>\n",
       "      <td>0.000000</td>\n",
       "      <td>0.000000</td>\n",
       "      <td>26.000000</td>\n",
       "      <td>0.233705</td>\n",
       "    </tr>\n",
       "    <tr>\n",
       "      <th>25%</th>\n",
       "      <td>4.000000</td>\n",
       "      <td>0.700000</td>\n",
       "      <td>18.790000</td>\n",
       "      <td>774.500000</td>\n",
       "      <td>4560.000000</td>\n",
       "      <td>30.000000</td>\n",
       "      <td>0.000000</td>\n",
       "      <td>0.000000</td>\n",
       "      <td>0.000000</td>\n",
       "      <td>52.000000</td>\n",
       "      <td>0.661470</td>\n",
       "    </tr>\n",
       "    <tr>\n",
       "      <th>50%</th>\n",
       "      <td>6.000000</td>\n",
       "      <td>0.750000</td>\n",
       "      <td>22.520000</td>\n",
       "      <td>1039.000000</td>\n",
       "      <td>6840.000000</td>\n",
       "      <td>45.000000</td>\n",
       "      <td>0.000000</td>\n",
       "      <td>0.000000</td>\n",
       "      <td>0.000000</td>\n",
       "      <td>57.000000</td>\n",
       "      <td>0.750608</td>\n",
       "    </tr>\n",
       "    <tr>\n",
       "      <th>75%</th>\n",
       "      <td>10.000000</td>\n",
       "      <td>0.800000</td>\n",
       "      <td>28.080000</td>\n",
       "      <td>1252.500000</td>\n",
       "      <td>7200.000000</td>\n",
       "      <td>60.000000</td>\n",
       "      <td>0.000000</td>\n",
       "      <td>0.000000</td>\n",
       "      <td>0.000000</td>\n",
       "      <td>58.000000</td>\n",
       "      <td>0.800402</td>\n",
       "    </tr>\n",
       "    <tr>\n",
       "      <th>max</th>\n",
       "      <td>12.000000</td>\n",
       "      <td>0.800000</td>\n",
       "      <td>54.560000</td>\n",
       "      <td>23122.000000</td>\n",
       "      <td>25920.000000</td>\n",
       "      <td>138.000000</td>\n",
       "      <td>300.000000</td>\n",
       "      <td>45.000000</td>\n",
       "      <td>2.000000</td>\n",
       "      <td>89.000000</td>\n",
       "      <td>1.100484</td>\n",
       "    </tr>\n",
       "  </tbody>\n",
       "</table>\n",
       "</div>"
      ],
      "text/plain": [
       "             team  targeted_productivity         smv           wip  \\\n",
       "count  691.000000             691.000000  691.000000    691.000000   \n",
       "mean     6.520984               0.723980   23.245412   1190.465991   \n",
       "std      3.458333               0.102006    6.976497   1837.455001   \n",
       "min      1.000000               0.070000   10.050000      7.000000   \n",
       "25%      4.000000               0.700000   18.790000    774.500000   \n",
       "50%      6.000000               0.750000   22.520000   1039.000000   \n",
       "75%     10.000000               0.800000   28.080000   1252.500000   \n",
       "max     12.000000               0.800000   54.560000  23122.000000   \n",
       "\n",
       "          over_time   incentive   idle_time    idle_men  no_of_style_change  \\\n",
       "count    691.000000  691.000000  691.000000  691.000000          691.000000   \n",
       "mean    6508.205499   44.483357    1.264834    0.639653            0.260492   \n",
       "std     2864.505604   27.596591   16.712923    4.283652            0.537185   \n",
       "min        0.000000    0.000000    0.000000    0.000000            0.000000   \n",
       "25%     4560.000000   30.000000    0.000000    0.000000            0.000000   \n",
       "50%     6840.000000   45.000000    0.000000    0.000000            0.000000   \n",
       "75%     7200.000000   60.000000    0.000000    0.000000            0.000000   \n",
       "max    25920.000000  138.000000  300.000000   45.000000            2.000000   \n",
       "\n",
       "       no_of_workers  actual_productivity  \n",
       "count     691.000000           691.000000  \n",
       "mean       52.445731             0.722013  \n",
       "std         9.417353             0.154784  \n",
       "min        26.000000             0.233705  \n",
       "25%        52.000000             0.661470  \n",
       "50%        57.000000             0.750608  \n",
       "75%        58.000000             0.800402  \n",
       "max        89.000000             1.100484  "
      ]
     },
     "execution_count": 3,
     "metadata": {},
     "output_type": "execute_result"
    }
   ],
   "source": [
    "dataset.describe()"
   ]
  },
  {
   "cell_type": "code",
   "execution_count": 7,
   "metadata": {},
   "outputs": [
    {
     "data": {
      "text/plain": [
       "<Axes: title={'center': 'Day vs Average Productivity'}, xlabel='Day'>"
      ]
     },
     "execution_count": 7,
     "metadata": {},
     "output_type": "execute_result"
    },
    {
     "data": {
      "image/png": "[encoded data removed]",
      "text/plain": [
       "<Figure size 640x480 with 1 Axes>"
      ]
     },
     "metadata": {},
     "output_type": "display_data"
    }
   ],
   "source": [
    "day_order = {\n",
    "    'Monday': 0, 'Tuesday': 1, 'Wednesday': 2, 'Thursday': 3,\n",
    "    'Friday': 4, 'Saturday': 5, 'Sunday': 6\n",
    "}\n",
    "\n",
    "average = dataset.groupby(\"day\")[\"actual_productivity\"].mean().reset_index()\n",
    "average.columns = ['Day', 'Average Productivity']\n",
    "average = average.sort_values(by='Day', key=lambda x: x.map(day_order))\n",
    "average.plot(x='Day', y='Average Productivity', kind='bar', title='Day vs Average Productivity')"
   ]
  },
  {
   "cell_type": "code",
   "execution_count": 6,
   "metadata": {},
   "outputs": [
    {
     "data": {
      "text/plain": [
       "<Axes: title={'center': 'Day vs Average Productivity'}, xlabel='Day'>"
      ]
     },
     "execution_count": 6,
     "metadata": {},
     "output_type": "execute_result"
    },
    {
     "data": {
      "image/png": "[encoded data removed]",
      "text/plain": [
       "<Figure size 640x480 with 1 Axes>"
      ]
     },
     "metadata": {},
     "output_type": "display_data"
    }
   ],
   "source": []
  },
  {
   "cell_type": "code",
   "execution_count": 6,
   "id": "d52d7ccb",
   "metadata": {},
   "outputs": [],
   "source": [
    "x = dataset.iloc[:, -1]"
   ]
  },
  {
   "cell_type": "code",
   "execution_count": 12,
   "id": "e23291da",
   "metadata": {},
   "outputs": [
    {
     "data": {
      "text/plain": [
       "0.7220130317105644"
      ]
     },
     "execution_count": 12,
     "metadata": {},
     "output_type": "execute_result"
    }
   ],
   "source": [
    "# we calculate the mean of the sample\n",
    "mean = x.mean()\n",
    "mean"
   ]
  },
  {
   "cell_type": "code",
   "execution_count": 11,
   "id": "9423c5d7",
   "metadata": {},
   "outputs": [
    {
     "ename": "TypeError",
     "evalue": "rv_generic.interval() missing 1 required positional argument: 'confidence'",
     "output_type": "error",
     "traceback": [
      "\u001b[1;31m---------------------------------------------------------------------------\u001b[0m",
      "\u001b[1;31mTypeError\u001b[0m                                 Traceback (most recent call last)",
      "\u001b[1;32mc:\\Users\\aromax\\Documents\\AroProjects\\Navan\\Fundamental of Statistics of DA-L7- CA2- Nazmun Nahar.ipynb Cell 34\u001b[0m line \u001b[0;36m2\n\u001b[0;32m      <a href='vscode-notebook-cell:/c%3A/Users/aromax/Documents/AroProjects/Navan/Fundamental%20of%20Statistics%20of%20DA-L7-%20CA2-%20Nazmun%20Nahar.ipynb#X45sZmlsZQ%3D%3D?line=0'>1</a>\u001b[0m \u001b[39m# we create the code for confidence interval at 95% confidance, so alpha = 0.05\u001b[39;00m\n\u001b[1;32m----> <a href='vscode-notebook-cell:/c%3A/Users/aromax/Documents/AroProjects/Navan/Fundamental%20of%20Statistics%20of%20DA-L7-%20CA2-%20Nazmun%20Nahar.ipynb#X45sZmlsZQ%3D%3D?line=1'>2</a>\u001b[0m st\u001b[39m.\u001b[39;49mt\u001b[39m.\u001b[39;49minterval(alpha \u001b[39m=\u001b[39;49m \u001b[39m0.95\u001b[39;49m, df \u001b[39m=\u001b[39;49m \u001b[39mlen\u001b[39;49m(x)\u001b[39m-\u001b[39;49m \u001b[39m1\u001b[39;49m, loc\u001b[39m=\u001b[39;49m np\u001b[39m.\u001b[39;49mmean(x), scale \u001b[39m=\u001b[39;49mst\u001b[39m.\u001b[39;49msem(x))\n",
      "\u001b[1;31mTypeError\u001b[0m: rv_generic.interval() missing 1 required positional argument: 'confidence'"
     ]
    }
   ],
   "source": [
    "# we create the code for confidence interval at 95% confidance, so alpha = 0.05\n",
    "st.t.interval(alpha = 0.95, df = len(x)- 1, loc= np.mean(x), scale =st.sem(x))"
   ]
  },
  {
   "cell_type": "code",
   "execution_count": null,
   "id": "791d8997",
   "metadata": {},
   "outputs": [],
   "source": []
  }
 ],
 "metadata": {
  "kernelspec": {
   "display_name": "Python 3 (ipykernel)",
   "language": "python",
   "name": "python3"
  },
  "language_info": {
   "codemirror_mode": {
    "name": "ipython",
    "version": 3
   },
   "file_extension": ".py",
   "mimetype": "text/x-python",
   "name": "python",
   "nbconvert_exporter": "python",
   "pygments_lexer": "ipython3",
   "version": "3.10.8"
  }
 },
 "nbformat": 4,
 "nbformat_minor": 5
}
