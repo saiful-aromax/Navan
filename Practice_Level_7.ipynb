{
 "cells": [
  {
   "cell_type": "markdown",
   "id": "e32ea88f",
   "metadata": {},
   "source": [
    "Exercise 1: A company claims that their machines produce screws with an average length of 5 cm. You suspect \n",
    "that this might not be accurate. To test this claim, you randomly select a sample of 30 screws \n",
    "produced by these machines and measure their lengths. The sample mean length is found to be 4.95 \n",
    "cm, and from past data, it is known that the population standard deviation is 0.2 cm.\n",
    "Perform a hypothesis test to determine whether the average length of screws produced by these \n",
    "machines is different from the claimed 5 cm. Use a 5% significance level for the test. "
   ]
  },
  {
   "cell_type": "markdown",
   "id": "baee0e71",
   "metadata": {},
   "source": [
    "We need to define the variable and the data that we have available before we start with the steps of the HT"
   ]
  },
  {
   "cell_type": "markdown",
   "id": "74774d98",
   "metadata": {},
   "source": [
    "X = lenght of screwes (in cm)"
   ]
  },
  {
   "cell_type": "markdown",
   "id": "f57b77c7",
   "metadata": {},
   "source": [
    "Population: sigma = 0.20 ///\n",
    "Sample: n = 30, x bar: 4.95 ///\n",
    "HT: mu = 5? ; alpha = 0.05"
   ]
  },
  {
   "cell_type": "markdown",
   "id": "c306a10f",
   "metadata": {},
   "source": [
    "# Step 1: Formulation the test"
   ]
  },
  {
   "cell_type": "markdown",
   "id": "1cd98559",
   "metadata": {},
   "source": [
    "H0: mu = 5 //\n",
    "H1: mu =! 5"
   ]
  },
  {
   "cell_type": "markdown",
   "id": "7d7ca487",
   "metadata": {},
   "source": [
    "# Step 2: We decide the formula or table"
   ]
  },
  {
   "cell_type": "markdown",
   "id": "275ff9f6",
   "metadata": {},
   "source": [
    "Table: Normal --> z = (x bar - mu)/ sigma / sq(n)"
   ]
  },
  {
   "cell_type": "markdown",
   "id": "a71972ae",
   "metadata": {},
   "source": [
    "# Step 3: Critical values"
   ]
  },
  {
   "cell_type": "markdown",
   "id": "4c322b36",
   "metadata": {},
   "source": [
    "We remember the Table (Normal), the sign of H1 ( =! ) , alpha (0.05) --> It means that my distribution will be normal, the sign of H1 indicates that I will paint alpha dividided into two tails (my alpha will be 0.025 on each side) "
   ]
  },
  {
   "cell_type": "markdown",
   "id": "523153a8",
   "metadata": {},
   "source": [
    "We look for the critical value in the probability distributions app, and we see that the critical values are -1.95 and 1.95"
   ]
  },
  {
   "cell_type": "markdown",
   "id": "cf3653de",
   "metadata": {},
   "source": [
    "# Step 4: Decision Rule"
   ]
  },
  {
   "cell_type": "markdown",
   "id": "ebb6a7d3",
   "metadata": {},
   "source": [
    "We reject H0 if z score < -1.95 or z score > 1.95 // We accept H0 if -1.95 < z score < 1.95"
   ]
  },
  {
   "cell_type": "markdown",
   "id": "0452997d",
   "metadata": {},
   "source": [
    "# Step 5: Calculation of z score"
   ]
  },
  {
   "cell_type": "code",
   "execution_count": 1,
   "id": "452f92bb",
   "metadata": {},
   "outputs": [],
   "source": [
    "#Importing statistical libraries\n",
    "import scipy.stats as stats\n",
    "from statsmodels.stats import weightstats as stests\n",
    "from scipy.stats import norm\n",
    "import numpy as np"
   ]
  },
  {
   "cell_type": "code",
   "execution_count": 2,
   "id": "ae983463",
   "metadata": {},
   "outputs": [],
   "source": [
    "#We need to write down the values as objects \n",
    "\n",
    "mu = 5 # under H0 true, this is population average\n",
    "std = 0.20 # sigma\n",
    "n = 30 # sample size\n",
    "sample_mean = 4.95 # x bar\n",
    "formula_std = std / (n ** 0.5) #sigma / sq of n"
   ]
  },
  {
   "cell_type": "code",
   "execution_count": 3,
   "id": "e3704086",
   "metadata": {},
   "outputs": [],
   "source": [
    "# Z-test calculation\n",
    "z_score = (sample_mean - mu) / formula_std\n"
   ]
  },
  {
   "cell_type": "code",
   "execution_count": 4,
   "id": "1a6c0ee3",
   "metadata": {},
   "outputs": [],
   "source": [
    "# Calculating the p-value for the two-tailed test\n",
    "p_value = stats.norm.cdf(z_score) * 2  # two-tailed test"
   ]
  },
  {
   "cell_type": "code",
   "execution_count": 5,
   "id": "080c6563",
   "metadata": {},
   "outputs": [
    {
     "name": "stdout",
     "output_type": "stream",
     "text": [
      "z_score: -1.3693063937629104\n",
      "p_value: 0.17090352023079902\n"
     ]
    }
   ],
   "source": [
    "#We perform the test and alculate the z score\n",
    "\n",
    "print(\"z_score:\", z_score)\n",
    "print(\"p_value:\", p_value)"
   ]
  },
  {
   "cell_type": "markdown",
   "id": "0ec981b3",
   "metadata": {},
   "source": [
    "# Step 6: Result of the test"
   ]
  },
  {
   "cell_type": "markdown",
   "id": "d033bc6f",
   "metadata": {},
   "source": [
    "Z = -1.95 , Z_score = -1.36 --> Z_score > Z then we accept H0"
   ]
  },
  {
   "cell_type": "markdown",
   "id": "848cfd49",
   "metadata": {},
   "source": [
    "# Step 7: Interpretation "
   ]
  },
  {
   "cell_type": "markdown",
   "id": "ff376cab",
   "metadata": {},
   "source": [
    "At a 5% significante level there is evidence to say that the average lenght of the screws is 5 cm"
   ]
  },
  {
   "cell_type": "code",
   "execution_count": null,
   "id": "a51733d0",
   "metadata": {},
   "outputs": [],
   "source": []
  }
 ],
 "metadata": {
  "kernelspec": {
   "display_name": "Python 3 (ipykernel)",
   "language": "python",
   "name": "python3"
  },
  "language_info": {
   "codemirror_mode": {
    "name": "ipython",
    "version": 3
   },
   "file_extension": ".py",
   "mimetype": "text/x-python",
   "name": "python",
   "nbconvert_exporter": "python",
   "pygments_lexer": "ipython3",
   "version": "3.11.5"
  }
 },
 "nbformat": 4,
 "nbformat_minor": 5
}
